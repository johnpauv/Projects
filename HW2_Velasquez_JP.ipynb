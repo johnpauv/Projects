{
  "nbformat": 4,
  "nbformat_minor": 0,
  "metadata": {
    "colab": {
      "name": "HW2_Velasquez_JP.ipynb",
      "provenance": [],
      "collapsed_sections": []
    },
    "kernelspec": {
      "name": "python3",
      "display_name": "Python 3"
    }
  },
  "cells": [
    {
      "cell_type": "markdown",
      "metadata": {
        "id": "bNsIruOzI4iF"
      },
      "source": [
        "## **Homework 2**\n",
        "\n",
        "### Create a copy of the notebook to start answering the questions. Name your notebook in the format HW1_lastname_firstname.ipynb to facilitate the grading process. \n",
        "\n",
        "### Answer all the questions, test your code to ensure there are no errors and the results are as expected. Once you have answered all the questions, save the final copy, then go to File-> click on Download.ipynb. Once the local copy has been downloaded, submit your file on Blackboard under the corresponding assignment section. Also provide us a link to your notebook during submission. \n",
        "\n",
        "### **The due date of this homework is 02/12/2021 (Friday).**\n",
        "\n",
        "### Please ensure you follow all the steps mentioned in the homework.\n",
        "\n",
        "### All the questions have a sample input and output to help you understand the question.\n",
        "\n",
        "### You can submit your solutions any number of times until the deadline.\n"
      ]
    },
    {
      "cell_type": "markdown",
      "metadata": {
        "id": "U3Yz3s2uio1F"
      },
      "source": [
        "**Q1. Lets consider your data is like the below cell:**\n",
        "\n",
        "**Q1-1**: Write a program that create a dataframe from the data.\n",
        "\n",
        "**Q1-2:** Select people that are psychologist or teacher and their number of cars is greater than their family size.\n",
        "\n",
        "**Q1-3:** Select people who have at most 2 family members and at least 1 car.\n",
        "\n",
        "**Q1-4:** Write a code that get number of unique jobs in this dataset.\n",
        "\n",
        "\n",
        "\n"
      ]
    },
    {
      "cell_type": "code",
      "metadata": {
        "id": "yR8lcOtcjxXD"
      },
      "source": [
        "data = {\"name\": [\"Joseph\", \"Jacob\", \"Sam\", \"Jesee\", \"Ryan\", \"Lisa\", \"Lee\"],\n",
        "        \"job\": [\"teacher\", \"psychologist\", \"data scientist\", \"software developer\", \"psychologist\", \"psychologist\", \"teacher\"],\n",
        "        \"family_size\": [3, 2, 1, 4, 2, 3, 2],\n",
        "        \"num_cars\": [3, 1, 1, 2, 2, 4, 1]}"
      ],
      "execution_count": null,
      "outputs": []
    },
    {
      "cell_type": "code",
      "metadata": {
        "id": "Youi5qMaP34p",
        "colab": {
          "base_uri": "https://localhost:8080/"
        },
        "outputId": "5b453fb1-d278-4e03-e885-7d87282b6335"
      },
      "source": [
        "import pandas as pd\n",
        "data = {\"name\": [\"Joseph\", \"Jacob\", \"Sam\", \"Jesee\", \"Ryan\", \"Lisa\", \"Lee\"],\n",
        "        \"job\": [\"teacher\", \"psychologist\", \"data scientist\", \"software developer\", \"psychologist\", \"psychologist\", \"teacher\"],\n",
        "        \"family_size\": [3, 2, 1, 4, 2, 3, 2],\n",
        "        \"num_cars\": [3, 1, 1, 2, 2, 4, 1]}\n",
        "# Type your solution here\n",
        "#creating data frame for question 1-1\n",
        "frame = pd.DataFrame(data)\n",
        "\n",
        "#selecting the conditions given in Q1-2\n",
        "frame[(frame.job == \"Psychologist\", \"Teacher\") and (frame.family_size < frame.num_cars)] \n",
        "\n",
        "#selecting the conditions given in Q1-3\n",
        "frame[(frame.family_size <= 2) & (frame.num_cars > 0)]\n",
        "\n",
        "#finding number of uniqye jobs for Q1-4\n",
        "uniqueJobs = len(pd.unique(frame[\"job\"]))\n",
        "print(\"unique jobs: \", uniqueJobs)\n",
        "\n",
        "\n",
        "\n"
      ],
      "execution_count": null,
      "outputs": [
        {
          "output_type": "stream",
          "text": [
            "unique jobs:  4\n"
          ],
          "name": "stdout"
        }
      ]
    },
    {
      "cell_type": "markdown",
      "metadata": {
        "id": "Ow6nG8k4l91X"
      },
      "source": [
        "**Q2. Lets consider you have two series like the below cell. Compute the mean of weights of each fruit.**"
      ]
    },
    {
      "cell_type": "code",
      "metadata": {
        "id": "u-X_DoOzVLLB"
      },
      "source": [
        "import numpy as np\n",
        "fruit = pd.Series(np.random.choice(['apple', 'banana', 'carrot'], 10))\n",
        "weights = pd.Series(np.linspace(1, 10, 10))"
      ],
      "execution_count": null,
      "outputs": []
    },
    {
      "cell_type": "code",
      "metadata": {
        "id": "S419nzYnpU__",
        "colab": {
          "base_uri": "https://localhost:8080/"
        },
        "outputId": "6fe78854-cb23-46de-b976-a53d9fe7885f"
      },
      "source": [
        "# Type your solution here\n",
        "#converting the series into a numpy array\n",
        "np_array = np.array(list(zip(fruit, weights)))\n",
        "\n",
        "#converting the array into a data frame and converting the weights into string\n",
        "fruit_frame = pd.DataFrame(np_array, columns=[\"Fruit\",\"Weight\"])\n",
        "fruit_frame[[\"Weight\"]] = fruit_frame[[\"Weight\"]].apply(pd.to_numeric)\n",
        "\n",
        "#grouping by fruit, then finding the mean\n",
        "fruitGroup = fruit_frame.groupby(\"Fruit\")\n",
        "meanFruit = fruitGroup.mean()\n",
        "print(meanFruit)\n"
      ],
      "execution_count": null,
      "outputs": [
        {
          "output_type": "stream",
          "text": [
            "          Weight\n",
            "Fruit           \n",
            "apple   7.000000\n",
            "banana  5.000000\n",
            "carrot  5.166667\n"
          ],
          "name": "stdout"
        }
      ]
    },
    {
      "cell_type": "markdown",
      "metadata": {
        "id": "g4lKaPIhtVrt"
      },
      "source": [
        "**Q3. Consider the below course_name array:**\n",
        "\n",
        "**Q3-1**: Write a NumPy program to get the indices of the sorted elements of **course_name** array.\n",
        "\n",
        "**Q3-2:** Write numpy code to check whether each element of **course_name** array starts with \"P\".\n"
      ]
    },
    {
      "cell_type": "code",
      "metadata": {
        "id": "RUP_jp2KtVrx"
      },
      "source": [
        "import numpy as np\n",
        "course_name = np.array(['Python', 'JS', 'examples', 'PHP', 'html'])"
      ],
      "execution_count": null,
      "outputs": []
    },
    {
      "cell_type": "code",
      "metadata": {
        "id": "U1i27POxv-o_",
        "colab": {
          "base_uri": "https://localhost:8080/"
        },
        "outputId": "1c5d8364-704d-4ed7-c7b3-34fd1700fb1b"
      },
      "source": [
        "# Type your solution here\n",
        "#solution for #Q3-1\n",
        "np.argsort(course_name)\n",
        "\n",
        "\n",
        "#solution for #Q3-2\n",
        "\n",
        "#creating a new aray to store the strings that start with P\n",
        "p_array = ([])\n",
        "#for loop to check whether the first element of each string starts with P\n",
        "for i in range(len(course_name)):\n",
        "  if course_name[i][0] == \"P\":\n",
        "    p_array.append(course_name[i])\n",
        "  else:\n",
        "    pass\n",
        "print(p_array)\n",
        "\n",
        "  \n",
        "\n"
      ],
      "execution_count": null,
      "outputs": [
        {
          "output_type": "stream",
          "text": [
            "['Python', 'PHP']\n",
            "S\n"
          ],
          "name": "stdout"
        }
      ]
    },
    {
      "cell_type": "markdown",
      "metadata": {
        "id": "sUFItNFOxwkz"
      },
      "source": [
        "**Q4. Consider the below student_id array:**\n",
        "\n",
        "**Q4-1:** Reverse the **student_id** array. Print both original and reversed array.\n",
        "\n",
        "**Q4-2:** Get the 3-largest values of **student_id** array."
      ]
    },
    {
      "cell_type": "code",
      "metadata": {
        "id": "Rl5qzEjFv0nw"
      },
      "source": [
        "import numpy as np\n",
        "student_id = np.array([1023, 5202, 6230, 1671, 1682, 5241, 4532])"
      ],
      "execution_count": null,
      "outputs": []
    },
    {
      "cell_type": "code",
      "metadata": {
        "id": "EetvHGrUxMCC",
        "colab": {
          "base_uri": "https://localhost:8080/"
        },
        "outputId": "b93c8f7d-fa40-407e-e0e9-4505bff307d7"
      },
      "source": [
        "# Type your solution here\n",
        "\n",
        "#Q4-1\n",
        "#reversing the array and printing both original and new arrays for \n",
        "reverse_id = np.flip(student_id)\n",
        "print(\"Orginal:\", student_id)\n",
        "print(\"Reversed:\", reverse_id)\n",
        "\n",
        "#Q4-2\n",
        "sorted_id = np.sort(student_id)\n",
        "reverse_sort = np.flip(sorted_id)\n",
        "\n",
        "print(\"The three largest values are:\", reverse_sort[0:3])\n",
        "\n",
        "\n",
        "\n",
        "\n"
      ],
      "execution_count": 46,
      "outputs": [
        {
          "output_type": "stream",
          "text": [
            "Orginal: [1023 5202 6230 1671 1682 5241 4532]\n",
            "Reversed: [4532 5241 1682 1671 6230 5202 1023]\n",
            "The three largest values are: [6230 5241 5202]\n"
          ],
          "name": "stdout"
        }
      ]
    },
    {
      "cell_type": "markdown",
      "metadata": {
        "id": "uKRyDVuW6B19"
      },
      "source": [
        "# **Q5: Write a numpy program to print sum of all the multiples of 3 or 5 below 100**"
      ]
    },
    {
      "cell_type": "code",
      "metadata": {
        "id": "ZIixq1gz6OK3",
        "colab": {
          "base_uri": "https://localhost:8080/"
        },
        "outputId": "42558a72-f6bd-41c4-c91e-9d891860d64a"
      },
      "source": [
        "# Type your solution here\n",
        "#creating an array of integers between 1 and 100\n",
        "numArr = np.arange(1,100)\n",
        "#creating an empty array to store all the multiplies of 3 and 5\n",
        "sumArr = ([])\n",
        "#for loop that iterates over the first array and appends multiples of 3 and 5 to the new array\n",
        "for i in numArr:\n",
        "  if i % 3 == 0 or i % 5 == 0:\n",
        "    sumArr.append(i)\n",
        "print(sumArr)\n",
        "print(\"The sum is:\", np.sum(sumArr))\n",
        "\n",
        "# Hint: you can use arange to start off"
      ],
      "execution_count": 59,
      "outputs": [
        {
          "output_type": "stream",
          "text": [
            "[3, 5, 6, 9, 10, 12, 15, 18, 20, 21, 24, 25, 27, 30, 33, 35, 36, 39, 40, 42, 45, 48, 50, 51, 54, 55, 57, 60, 63, 65, 66, 69, 70, 72, 75, 78, 80, 81, 84, 85, 87, 90, 93, 95, 96, 99]\n",
            "The sum is: 2318\n"
          ],
          "name": "stdout"
        }
      ]
    },
    {
      "cell_type": "markdown",
      "metadata": {
        "id": "2CWJOsP24c34"
      },
      "source": [
        "**Q6. Consider the below array.**\n",
        "\n",
        "Q6.1. Write a code to swap column 1 with column 2.\n",
        "\n",
        "Q6.2. Write a code to swap row 0 with row 1."
      ]
    },
    {
      "cell_type": "code",
      "metadata": {
        "id": "3OG6X5Eg5KSM",
        "colab": {
          "base_uri": "https://localhost:8080/"
        },
        "outputId": "ba5efe3b-f76d-44c6-a1c3-80a67ffaa873"
      },
      "source": [
        "import numpy as np\n",
        "\n",
        "arr = np.arange(12).reshape(3,4)\n",
        "print(\"Original Array:\")\n",
        "print(arr)\n",
        "\n"
      ],
      "execution_count": 16,
      "outputs": [
        {
          "output_type": "stream",
          "text": [
            "Original Array:\n",
            "[[ 0  1  2  3]\n",
            " [ 4  5  6  7]\n",
            " [ 8  9 10 11]]\n"
          ],
          "name": "stdout"
        }
      ]
    },
    {
      "cell_type": "code",
      "metadata": {
        "id": "Q-Q91DpO5YYW",
        "colab": {
          "base_uri": "https://localhost:8080/"
        },
        "outputId": "5b6afae6-ae3f-4f98-b4df-896382750217"
      },
      "source": [
        "# Type your solution here\n",
        "#Q6-1\n",
        "#swapping array\n",
        "arr[:,[1,2]]=arr[:,[2,1]]\n",
        "print(\"Swapping columns 1 and 2:\")\n",
        "print(arr)\n",
        "\n",
        "#Q6-2\n",
        "arr[:,[0,1]]=arr[:,[1,0]]\n",
        "print(\"Swapping columns 0 and 1:\")\n",
        "print(arr)"
      ],
      "execution_count": 15,
      "outputs": [
        {
          "output_type": "stream",
          "text": [
            "Swapping columns 1 and 2:\n",
            "[[ 2  1  0  3]\n",
            " [ 6  5  4  7]\n",
            " [10  9  8 11]]\n",
            "Swapping columns 0 and 1:\n",
            "[[ 1  2  0  3]\n",
            " [ 5  6  4  7]\n",
            " [ 9 10  8 11]]\n"
          ],
          "name": "stdout"
        }
      ]
    }
  ]
}